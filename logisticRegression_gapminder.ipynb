{
 "cells": [
  {
   "cell_type": "code",
   "execution_count": 19,
   "metadata": {
    "collapsed": false
   },
   "outputs": [
    {
     "name": "stdout",
     "output_type": "stream",
     "text": [
      "Populating the interactive namespace from numpy and matplotlib\n"
     ]
    }
   ],
   "source": [
    "# -*- coding: utf-8 -*-\n",
    "%pylab inline\n",
    "\n",
    "import numpy\n",
    "import pandas\n",
    "import matplotlib.pyplot as plt\n",
    "import statsmodels.api as sm\n",
    "import statsmodels.formula.api as smf\n",
    "import seaborn\n",
    "\n",
    "# bug fix for display formats to avoid run time errors\n",
    "pandas.set_option('display.float_format', lambda x:'%.2f'%x)\n",
    "\n",
    "data = pandas.read_csv('gapminder.csv')\n",
    "\n",
    "# convert to numeric format\n",
    "data['internetuserate'] = pandas.to_numeric(data['internetuserate'], errors='coerce')\n",
    "data['urbanrate'] = pandas.to_numeric(data['urbanrate'], errors='coerce')\n",
    "data['femaleemployrate'] = pandas.to_numeric(data['femaleemployrate'], errors='coerce')\n",
    "data['incomeperperson'] = pandas.to_numeric(data['incomeperperson'], errors='coerce')\n",
    "data['lifeexpectancy'] = pandas.to_numeric(data['lifeexpectancy'], errors='coerce')\n"
   ]
  },
  {
   "cell_type": "code",
   "execution_count": 31,
   "metadata": {
    "collapsed": false
   },
   "outputs": [
    {
     "name": "stdout",
     "output_type": "stream",
     "text": [
      "count      190.00\n",
      "mean      8740.97\n",
      "std      14262.81\n",
      "min        103.78\n",
      "25%        748.25\n",
      "50%       2553.50\n",
      "75%       9379.89\n",
      "max     105147.44\n",
      "Name: incomeperperson, dtype: float64\n"
     ]
    }
   ],
   "source": [
    "print (data['incomeperperson'].describe())\n",
    "def checkRichness(x):\n",
    "    if x >= 8741:\n",
    "        return 1\n",
    "    else:\n",
    "        return 0\n",
    "data['isRich'] = data['incomeperperson'].apply(checkRichness)\n",
    "sub1 = data[['isRich', 'femaleemployrate', 'urbanrate', 'lifeexpectancy']].dropna()"
   ]
  },
  {
   "cell_type": "code",
   "execution_count": 36,
   "metadata": {
    "collapsed": false
   },
   "outputs": [
    {
     "name": "stdout",
     "output_type": "stream",
     "text": [
      "Optimization terminated successfully.\n",
      "         Current function value: 0.200391\n",
      "         Iterations 9\n",
      "                           Logit Regression Results                           \n",
      "==============================================================================\n",
      "Dep. Variable:                 isRich   No. Observations:                  173\n",
      "Model:                          Logit   Df Residuals:                      170\n",
      "Method:                           MLE   Df Model:                            2\n",
      "Date:                Sun, 28 Feb 2016   Pseudo R-squ.:                  0.6426\n",
      "Time:                        20:28:12   Log-Likelihood:                -34.668\n",
      "converged:                       True   LL-Null:                       -97.008\n",
      "                                        LLR p-value:                 8.428e-28\n",
      "==================================================================================\n",
      "                     coef    std err          z      P>|z|      [95.0% Conf. Int.]\n",
      "----------------------------------------------------------------------------------\n",
      "Intercept        -52.4001      9.422     -5.562      0.000       -70.866   -33.934\n",
      "lifeexpectancy     0.6528      0.124      5.250      0.000         0.409     0.897\n",
      "urbanrate          0.0283      0.019      1.489      0.137        -0.009     0.066\n",
      "==================================================================================\n",
      "\n",
      "Possibly complete quasi-separation: A fraction 0.26 of observations can be\n",
      "perfectly predicted. This might indicate that there is complete\n",
      "quasi-separation. In this case some parameters will not be identified.\n"
     ]
    }
   ],
   "source": [
    "# logistic regression analysis\n",
    "logreg1 = smf.logit('isRich ~ lifeexpectancy + urbanrate', data=sub1).fit()\n",
    "print (logreg1.summary())"
   ]
  },
  {
   "cell_type": "code",
   "execution_count": 25,
   "metadata": {
    "collapsed": false
   },
   "outputs": [
    {
     "name": "stdout",
     "output_type": "stream",
     "text": [
      "Odds Ratios\n",
      "Intercept        0.00\n",
      "lifeexpectancy   2.00\n",
      "dtype: float64\n"
     ]
    }
   ],
   "source": [
    "print('Odds Ratios')\n",
    "print(numpy.exp(logreg1.params))"
   ]
  },
  {
   "cell_type": "code",
   "execution_count": 30,
   "metadata": {
    "collapsed": false
   },
   "outputs": [
    {
     "name": "stdout",
     "output_type": "stream",
     "text": [
      "                Lower CI  Upper CI   OR\n",
      "Intercept           0.00      0.00 0.00\n",
      "lifeexpectancy      1.58      2.54 2.00\n"
     ]
    }
   ],
   "source": [
    "params = logreg1.params\n",
    "conf = logreg1.conf_int()\n",
    "conf['OR'] = params\n",
    "conf.columns = ['Lower CI', 'Upper CI', 'OR']\n",
    "print(numpy.exp(conf))"
   ]
  },
  {
   "cell_type": "code",
   "execution_count": null,
   "metadata": {
    "collapsed": true
   },
   "outputs": [],
   "source": []
  }
 ],
 "metadata": {
  "kernelspec": {
   "display_name": "Python 3",
   "language": "python",
   "name": "python3"
  },
  "language_info": {
   "codemirror_mode": {
    "name": "ipython",
    "version": 3
   },
   "file_extension": ".py",
   "mimetype": "text/x-python",
   "name": "python",
   "nbconvert_exporter": "python",
   "pygments_lexer": "ipython3",
   "version": "3.5.1"
  }
 },
 "nbformat": 4,
 "nbformat_minor": 0
}
