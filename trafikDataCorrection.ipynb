{
 "cells": [
  {
   "cell_type": "code",
   "execution_count": 1,
   "metadata": {
    "collapsed": true
   },
   "outputs": [],
   "source": [
    "%run /Users/barantoppare/Desktop/getir_analysis/Ipython_Notebook/Getirinit.ipynb"
   ]
  },
  {
   "cell_type": "code",
   "execution_count": 4,
   "metadata": {
    "collapsed": true
   },
   "outputs": [],
   "source": [
    "d1 = datetime.datetime.strptime('2015-12-01 00:00:00', '%Y-%m-%d %H:%M:%S')\n",
    "d2 = datetime.datetime.strptime('2016-02-21 23:59:59', '%Y-%m-%d %H:%M:%S')\n",
    "\n",
    "ordersQuery = list(db_getir['orders'].find(\n",
    "{\n",
    "        'checkoutDateL': {'$gte': d1, '$lte': d2},\n",
    "        'courierType': 5\n",
    "        \n",
    "    },\n",
    "{\n",
    "        'distanceObj': 1\n",
    "    }\n",
    "))"
   ]
  },
  {
   "cell_type": "code",
   "execution_count": 5,
   "metadata": {
    "collapsed": false
   },
   "outputs": [
    {
     "data": {
      "text/plain": [
       "43174"
      ]
     },
     "execution_count": 5,
     "metadata": {},
     "output_type": "execute_result"
    }
   ],
   "source": [
    "len(ordersQuery)"
   ]
  },
  {
   "cell_type": "code",
   "execution_count": 6,
   "metadata": {
    "collapsed": true
   },
   "outputs": [],
   "source": [
    "averageTrafficTime = []\n",
    "averageNoTrafficTime = []\n",
    "averageHdistance = []\n",
    "averageDistance = []\n",
    "\n",
    "for i in ordersQuery:\n",
    "    \n",
    "    distance = i['distanceObj']['distance']['value']\n",
    "    duration = i['distanceObj']['duration']['value']\n",
    "    trafficTime = i['distanceObj']['jamsDuration']['value']\n",
    "    hDistance = i['distanceObj']['hDistance']['value']\n",
    "    NoTrafficTime = i['distanceObj']['noJamDuration']['value']\n",
    "    \n",
    "    averageTrafficTime.append(trafficTime)\n",
    "    averageHdistance.append(hDistance)\n",
    "    averageDistance.append(distance)\n",
    "    averageNoTrafficTime.append(NoTrafficTime) "
   ]
  },
  {
   "cell_type": "code",
   "execution_count": 7,
   "metadata": {
    "collapsed": false
   },
   "outputs": [
    {
     "name": "stdout",
     "output_type": "stream",
     "text": [
      "averageTrafficTime 725.347208968\n",
      "averageNoTrafficTime 573.216961134\n",
      "averageHdistance 1552.85378862\n",
      "averageDistance 2581.12760875\n"
     ]
    }
   ],
   "source": [
    "print 'averageTrafficTime %s' %(np.mean(averageTrafficTime)) \n",
    "print 'averageNoTrafficTime %s' %(np.mean(averageNoTrafficTime)) \n",
    "print 'averageHdistance %s' %(np.mean(averageHdistance)) \n",
    "print 'averageDistance %s' %(np.mean(averageDistance)) "
   ]
  },
  {
   "cell_type": "code",
   "execution_count": 8,
   "metadata": {
    "collapsed": false
   },
   "outputs": [
    {
     "data": {
      "text/plain": [
       "1.6621832832335188"
      ]
     },
     "execution_count": 8,
     "metadata": {},
     "output_type": "execute_result"
    }
   ],
   "source": [
    "2581.12760875/1552.85378862"
   ]
  },
  {
   "cell_type": "code",
   "execution_count": 10,
   "metadata": {
    "collapsed": false
   },
   "outputs": [
    {
     "data": {
      "text/plain": [
       "0.22208005493056582"
      ]
     },
     "execution_count": 10,
     "metadata": {},
     "output_type": "execute_result"
    }
   ],
   "source": [
    "573.216961134/2581.12760875"
   ]
  },
  {
   "cell_type": "code",
   "execution_count": 11,
   "metadata": {
    "collapsed": false
   },
   "outputs": [
    {
     "data": {
      "text/plain": [
       "1.2653973244843268"
      ]
     },
     "execution_count": 11,
     "metadata": {},
     "output_type": "execute_result"
    }
   ],
   "source": [
    "725.347208968/573.216961134"
   ]
  },
  {
   "cell_type": "code",
   "execution_count": 18,
   "metadata": {
    "collapsed": false
   },
   "outputs": [
    {
     "name": "stdout",
     "output_type": "stream",
     "text": [
      "2016-02-05 16:44:03.718606 2016-02-05 14:44:03.718637\n"
     ]
    }
   ],
   "source": [
    "print datetime.datetime.now(), datetime.datetime.utcnow()\n"
   ]
  },
  {
   "cell_type": "code",
   "execution_count": 19,
   "metadata": {
    "collapsed": true
   },
   "outputs": [],
   "source": [
    "a = [1,2,3,4,5]"
   ]
  },
  {
   "cell_type": "code",
   "execution_count": 21,
   "metadata": {
    "collapsed": false
   },
   "outputs": [],
   "source": [
    "a.remove(2)"
   ]
  },
  {
   "cell_type": "code",
   "execution_count": 22,
   "metadata": {
    "collapsed": false
   },
   "outputs": [
    {
     "data": {
      "text/plain": [
       "[1, 3, 4, 5]"
      ]
     },
     "execution_count": 22,
     "metadata": {},
     "output_type": "execute_result"
    }
   ],
   "source": [
    "a"
   ]
  },
  {
   "cell_type": "code",
   "execution_count": null,
   "metadata": {
    "collapsed": true
   },
   "outputs": [],
   "source": []
  }
 ],
 "metadata": {
  "kernelspec": {
   "display_name": "Python 2",
   "language": "python",
   "name": "python2"
  },
  "language_info": {
   "codemirror_mode": {
    "name": "ipython",
    "version": 2
   },
   "file_extension": ".py",
   "mimetype": "text/x-python",
   "name": "python",
   "nbconvert_exporter": "python",
   "pygments_lexer": "ipython2",
   "version": "2.7.11"
  }
 },
 "nbformat": 4,
 "nbformat_minor": 0
}
